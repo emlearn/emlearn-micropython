{
 "cells": [
  {
   "cell_type": "code",
   "execution_count": 1,
   "id": "ad742bb8-64c1-4d85-99cf-0f8f77df96a7",
   "metadata": {},
   "outputs": [],
   "source": [
    "%load_ext autoreload\n",
    "%autoreload 2"
   ]
  },
  {
   "cell_type": "code",
   "execution_count": 2,
   "id": "9d812a3d-847c-4489-a675-647fa0c20bdb",
   "metadata": {},
   "outputs": [],
   "source": [
    "from filterdesign import design_butterworth"
   ]
  },
  {
   "cell_type": "code",
   "execution_count": 17,
   "id": "92be95ff-526e-400a-a9f2-2d5b349f8e77",
   "metadata": {},
   "outputs": [
    {
     "name": "stdout",
     "output_type": "stream",
     "text": [
      "[[ 0.00482434  0.00964869  0.00482434  1.         -1.04859958  0.29614036]\n",
      " [ 1.          2.          1.          1.         -1.32091343  0.63273879]]\n",
      "[[ 0.01114493  0.02228985  0.01114493  0.28165223 -1.1847565   1.        ]\n",
      " [ 1.          2.          1.          1.50311129 -2.81424982  1.        ]]\n"
     ]
    },
    {
     "ename": "ValueError",
     "evalue": "sos[:, 3] should be all ones",
     "output_type": "error",
     "traceback": [
      "\u001b[31m---------------------------------------------------------------------------\u001b[39m",
      "\u001b[31mValueError\u001b[39m                                Traceback (most recent call last)",
      "\u001b[36mCell\u001b[39m\u001b[36m \u001b[39m\u001b[32mIn[17]\u001b[39m\u001b[32m, line 31\u001b[39m\n\u001b[32m     28\u001b[39m     plt.plot(w, \u001b[32m20\u001b[39m * np.log10(\u001b[38;5;28mabs\u001b[39m(h) + \u001b[32m1e-6\u001b[39m), style, label=label)\n\u001b[32m     30\u001b[39m plt.figure(figsize=(\u001b[32m10\u001b[39m, \u001b[32m6\u001b[39m))\n\u001b[32m---> \u001b[39m\u001b[32m31\u001b[39m \u001b[43mplot_sos_response\u001b[49m\u001b[43m(\u001b[49m\u001b[43mcustom_sos\u001b[49m\u001b[43m,\u001b[49m\u001b[43m \u001b[49m\u001b[33;43m'\u001b[39;49m\u001b[33;43mCustom Butterworth\u001b[39;49m\u001b[33;43m'\u001b[39;49m\u001b[43m)\u001b[49m\n\u001b[32m     32\u001b[39m plot_sos_response(scipy_sos, \u001b[33m'\u001b[39m\u001b[33mSciPy Butterworth\u001b[39m\u001b[33m'\u001b[39m, \u001b[33m'\u001b[39m\u001b[33m--\u001b[39m\u001b[33m'\u001b[39m)\n\u001b[32m     33\u001b[39m plt.title(\u001b[33m'\u001b[39m\u001b[33mFrequency Response Comparison\u001b[39m\u001b[33m'\u001b[39m)\n",
      "\u001b[36mCell\u001b[39m\u001b[36m \u001b[39m\u001b[32mIn[17]\u001b[39m\u001b[32m, line 27\u001b[39m, in \u001b[36mplot_sos_response\u001b[39m\u001b[34m(sos, label, style)\u001b[39m\n\u001b[32m     26\u001b[39m \u001b[38;5;28;01mdef\u001b[39;00m\u001b[38;5;250m \u001b[39m\u001b[34mplot_sos_response\u001b[39m(sos, label, style=\u001b[33m'\u001b[39m\u001b[33m-\u001b[39m\u001b[33m'\u001b[39m):\n\u001b[32m---> \u001b[39m\u001b[32m27\u001b[39m     w, h = \u001b[43msignal\u001b[49m\u001b[43m.\u001b[49m\u001b[43msosfreqz\u001b[49m\u001b[43m(\u001b[49m\u001b[43msos\u001b[49m\u001b[43m,\u001b[49m\u001b[43m \u001b[49m\u001b[43mworN\u001b[49m\u001b[43m=\u001b[49m\u001b[32;43m1024\u001b[39;49m\u001b[43m,\u001b[49m\u001b[43m \u001b[49m\u001b[43mfs\u001b[49m\u001b[43m=\u001b[49m\u001b[43mfs\u001b[49m\u001b[43m)\u001b[49m\n\u001b[32m     28\u001b[39m     plt.plot(w, \u001b[32m20\u001b[39m * np.log10(\u001b[38;5;28mabs\u001b[39m(h) + \u001b[32m1e-6\u001b[39m), style, label=label)\n",
      "\u001b[36mFile \u001b[39m\u001b[32m/usr/lib/python3.13/site-packages/scipy/signal/_filter_design.py:873\u001b[39m, in \u001b[36msosfreqz\u001b[39m\u001b[34m(*args, **kwargs)\u001b[39m\n\u001b[32m    865\u001b[39m \u001b[38;5;28;01mdef\u001b[39;00m\u001b[38;5;250m \u001b[39m\u001b[34msosfreqz\u001b[39m(*args, **kwargs):\n\u001b[32m    866\u001b[39m \u001b[38;5;250m    \u001b[39m\u001b[33;03m\"\"\"\u001b[39;00m\n\u001b[32m    867\u001b[39m \u001b[33;03m    Compute the frequency response of a digital filter in SOS format.\u001b[39;00m\n\u001b[32m    868\u001b[39m \n\u001b[32m   (...)\u001b[39m\u001b[32m    871\u001b[39m \u001b[33;03m                 :func:`scipy.signal.freqz_sos`.\u001b[39;00m\n\u001b[32m    872\u001b[39m \u001b[33;03m    \"\"\"\u001b[39;00m\n\u001b[32m--> \u001b[39m\u001b[32m873\u001b[39m     \u001b[38;5;28;01mreturn\u001b[39;00m \u001b[43mfreqz_sos\u001b[49m\u001b[43m(\u001b[49m\u001b[43m*\u001b[49m\u001b[43margs\u001b[49m\u001b[43m,\u001b[49m\u001b[43m \u001b[49m\u001b[43m*\u001b[49m\u001b[43m*\u001b[49m\u001b[43mkwargs\u001b[49m\u001b[43m)\u001b[49m\n",
      "\u001b[36mFile \u001b[39m\u001b[32m/usr/lib/python3.13/site-packages/scipy/signal/_filter_design.py:855\u001b[39m, in \u001b[36mfreqz_sos\u001b[39m\u001b[34m(sos, worN, whole, fs)\u001b[39m\n\u001b[32m    742\u001b[39m \u001b[38;5;250m\u001b[39m\u001b[33mr\u001b[39m\u001b[33;03m\"\"\"\u001b[39;00m\n\u001b[32m    743\u001b[39m \u001b[33;03mCompute the frequency response of a digital filter in SOS format.\u001b[39;00m\n\u001b[32m    744\u001b[39m \n\u001b[32m   (...)\u001b[39m\u001b[32m    851\u001b[39m \n\u001b[32m    852\u001b[39m \u001b[33;03m\"\"\"\u001b[39;00m\n\u001b[32m    853\u001b[39m fs = _validate_fs(fs, allow_none=\u001b[38;5;28;01mFalse\u001b[39;00m)\n\u001b[32m--> \u001b[39m\u001b[32m855\u001b[39m sos, n_sections = \u001b[43m_validate_sos\u001b[49m\u001b[43m(\u001b[49m\u001b[43msos\u001b[49m\u001b[43m)\u001b[49m\n\u001b[32m    856\u001b[39m \u001b[38;5;28;01mif\u001b[39;00m n_sections == \u001b[32m0\u001b[39m:\n\u001b[32m    857\u001b[39m     \u001b[38;5;28;01mraise\u001b[39;00m \u001b[38;5;167;01mValueError\u001b[39;00m(\u001b[33m'\u001b[39m\u001b[33mCannot compute frequencies with no sections\u001b[39m\u001b[33m'\u001b[39m)\n",
      "\u001b[36mFile \u001b[39m\u001b[32m/usr/lib/python3.13/site-packages/scipy/signal/_filter_design.py:737\u001b[39m, in \u001b[36m_validate_sos\u001b[39m\u001b[34m(sos)\u001b[39m\n\u001b[32m    735\u001b[39m     \u001b[38;5;28;01mraise\u001b[39;00m \u001b[38;5;167;01mValueError\u001b[39;00m(\u001b[33m'\u001b[39m\u001b[33msos array must be shape (n_sections, 6)\u001b[39m\u001b[33m'\u001b[39m)\n\u001b[32m    736\u001b[39m \u001b[38;5;28;01mif\u001b[39;00m \u001b[38;5;129;01mnot\u001b[39;00m (sos[:, \u001b[32m3\u001b[39m] == \u001b[32m1\u001b[39m).all():\n\u001b[32m--> \u001b[39m\u001b[32m737\u001b[39m     \u001b[38;5;28;01mraise\u001b[39;00m \u001b[38;5;167;01mValueError\u001b[39;00m(\u001b[33m'\u001b[39m\u001b[33msos[:, 3] should be all ones\u001b[39m\u001b[33m'\u001b[39m)\n\u001b[32m    738\u001b[39m \u001b[38;5;28;01mreturn\u001b[39;00m sos, n_sections\n",
      "\u001b[31mValueError\u001b[39m: sos[:, 3] should be all ones"
     ]
    },
    {
     "data": {
      "text/plain": [
       "<Figure size 1000x600 with 0 Axes>"
      ]
     },
     "metadata": {},
     "output_type": "display_data"
    }
   ],
   "source": [
    "import scipy.signal as signal\n",
    "import numpy as np\n",
    "import matplotlib.pyplot as plt\n",
    "\n",
    "# === Your custom Butterworth function ===\n",
    "# Include the `design_butterworth()` function from above here\n",
    "\n",
    "# === Validation setup ===\n",
    "fs = 1000           # Sampling frequency (Hz)\n",
    "order = 4         # Filter order\n",
    "cutoff = 100        # Lowpass cutoff (Hz)\n",
    "ftype = 'lowpass'   # Filter type\n",
    "\n",
    "# Your custom filter coefficients (SOS)\n",
    "custom_sos = design_butterworth(order, ftype, fs, cutoff)\n",
    "\n",
    "# SciPy reference filter (matched settings)\n",
    "nyq = fs / 2\n",
    "scipy_sos = signal.butter(order, cutoff, btype=ftype, output='sos', fs=fs)\n",
    "\n",
    "import numpy\n",
    "print(numpy.array(scipy_sos))\n",
    "print(numpy.array(custom_sos))\n",
    "\n",
    "# === Frequency response comparison ===\n",
    "def plot_sos_response(sos, label, style='-'):\n",
    "    w, h = signal.sosfreqz(sos, worN=1024, fs=fs)\n",
    "    plt.plot(w, 20 * np.log10(abs(h) + 1e-6), style, label=label)\n",
    "\n",
    "plt.figure(figsize=(10, 6))\n",
    "plot_sos_response(custom_sos, 'Custom Butterworth')\n",
    "plot_sos_response(scipy_sos, 'SciPy Butterworth', '--')\n",
    "plt.title('Frequency Response Comparison')\n",
    "plt.xlabel('Frequency (Hz)')\n",
    "plt.xscale('log')\n",
    "plt.ylabel('Magnitude (dB)')\n",
    "plt.axvline(cutoff, ls='--', alpha=0.5)\n",
    "plt.axvline(cutoff*2, ls='--', alpha=0.5)\n",
    "plt.axhline(-3.0, ls='--', alpha=0.5)\n",
    "plt.grid(True)\n",
    "plt.legend()\n",
    "plt.tight_layout()\n",
    "plt.show()"
   ]
  },
  {
   "cell_type": "code",
   "execution_count": null,
   "id": "5af8872a-4a0e-4e5e-b2ce-df95fe71862b",
   "metadata": {},
   "outputs": [],
   "source": []
  }
 ],
 "metadata": {
  "kernelspec": {
   "display_name": "Python 3 (ipykernel)",
   "language": "python",
   "name": "python3"
  },
  "language_info": {
   "codemirror_mode": {
    "name": "ipython",
    "version": 3
   },
   "file_extension": ".py",
   "mimetype": "text/x-python",
   "name": "python",
   "nbconvert_exporter": "python",
   "pygments_lexer": "ipython3",
   "version": "3.13.2"
  }
 },
 "nbformat": 4,
 "nbformat_minor": 5
}
